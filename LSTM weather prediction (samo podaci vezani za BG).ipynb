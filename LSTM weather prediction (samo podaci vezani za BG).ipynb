{
 "cells": [
  {
   "cell_type": "code",
   "execution_count": 2,
   "metadata": {},
   "outputs": [],
   "source": [
    "from keras.models import Sequential\n",
    "from keras.layers import Dense\n",
    "from keras.layers import LSTM\n",
    "from keras.layers import Bidirectional\n",
    "from pandas import DataFrame\n",
    "from numpy import concatenate\n",
    "from pandas import concat\n",
    "\n",
    "import matplotlib.pyplot as plt\n",
    "import pandas as pd\n",
    "from sklearn.preprocessing import MinMaxScaler\n",
    "from sklearn import metrics\n",
    "\n",
    "import numpy"
   ]
  },
  {
   "cell_type": "code",
   "execution_count": 4,
   "metadata": {},
   "outputs": [],
   "source": [
    "# Učitavanje skupa podataka, setovanje indexa na kolonu koja sadrži podatke o datumu i vremenu\n",
    "dataset = pd.read_csv('ukupno.csv').set_index(\"datumivreme\")"
   ]
  },
  {
   "cell_type": "code",
   "execution_count": 5,
   "metadata": {},
   "outputs": [],
   "source": [
    "cols = ['temperaturaBah','temperaturaBul','temperaturaMac','temperaturaMon','temperaturaCro','temperaturaHun', 'temperaturaRom', 'pritisakBah','pritisakBul','pritisakMac','pritisakMon','pritisakCro','pritisakHun', 'pritisakRom', 'vlaznostBah','vlaznostBul','vlaznostMac','vlaznostMon','vlaznostCro','vlaznostHun', 'vlaznostRom']\n",
    "dataset = dataset.drop(cols,axis=1)"
   ]
  },
  {
   "cell_type": "code",
   "execution_count": 6,
   "metadata": {},
   "outputs": [
    {
     "data": {
      "text/html": [
       "<div>\n",
       "<style scoped>\n",
       "    .dataframe tbody tr th:only-of-type {\n",
       "        vertical-align: middle;\n",
       "    }\n",
       "\n",
       "    .dataframe tbody tr th {\n",
       "        vertical-align: top;\n",
       "    }\n",
       "\n",
       "    .dataframe thead th {\n",
       "        text-align: right;\n",
       "    }\n",
       "</style>\n",
       "<table border=\"1\" class=\"dataframe\">\n",
       "  <thead>\n",
       "    <tr style=\"text-align: right;\">\n",
       "      <th></th>\n",
       "      <th>temperatura</th>\n",
       "      <th>vlaznost</th>\n",
       "      <th>pritisak</th>\n",
       "    </tr>\n",
       "    <tr>\n",
       "      <th>datumivreme</th>\n",
       "      <th></th>\n",
       "      <th></th>\n",
       "      <th></th>\n",
       "    </tr>\n",
       "  </thead>\n",
       "  <tbody>\n",
       "    <tr>\n",
       "      <th>1/1/18 00:00</th>\n",
       "      <td>2</td>\n",
       "      <td>0.81</td>\n",
       "      <td>1016</td>\n",
       "    </tr>\n",
       "    <tr>\n",
       "      <th>1/1/18 01:00</th>\n",
       "      <td>2</td>\n",
       "      <td>0.81</td>\n",
       "      <td>1016</td>\n",
       "    </tr>\n",
       "    <tr>\n",
       "      <th>1/1/18 01:30</th>\n",
       "      <td>2</td>\n",
       "      <td>0.81</td>\n",
       "      <td>1016</td>\n",
       "    </tr>\n",
       "    <tr>\n",
       "      <th>1/1/18 02:00</th>\n",
       "      <td>1</td>\n",
       "      <td>0.87</td>\n",
       "      <td>1016</td>\n",
       "    </tr>\n",
       "    <tr>\n",
       "      <th>1/1/18 02:30</th>\n",
       "      <td>1</td>\n",
       "      <td>0.87</td>\n",
       "      <td>1016</td>\n",
       "    </tr>\n",
       "  </tbody>\n",
       "</table>\n",
       "</div>"
      ],
      "text/plain": [
       "              temperatura  vlaznost  pritisak\n",
       "datumivreme                                  \n",
       "1/1/18 00:00            2      0.81      1016\n",
       "1/1/18 01:00            2      0.81      1016\n",
       "1/1/18 01:30            2      0.81      1016\n",
       "1/1/18 02:00            1      0.87      1016\n",
       "1/1/18 02:30            1      0.87      1016"
      ]
     },
     "execution_count": 6,
     "metadata": {},
     "output_type": "execute_result"
    }
   ],
   "source": [
    "dataset.head(5)"
   ]
  },
  {
   "cell_type": "code",
   "execution_count": 7,
   "metadata": {},
   "outputs": [],
   "source": [
    "# Prolazimo kroz podatke i pravimo 'parove' odgovrajućih ulaznih podataka sa izlaznim\n",
    "def series_to_supervised(data, n_in=1, n_out=1, dropnan=True):\n",
    "    n_vars = 1 if type(data) is list else data.shape[1]\n",
    "    df = DataFrame(data)\n",
    "    cols, names = list(), list()\n",
    "    # input sequence (t-n, ... t-1)\n",
    "    for i in range(n_in, 0, -1):\n",
    "        cols.append(df.shift(i))\n",
    "        names += [('var%d(t-%d)' % (j+1, i)) for j in range(n_vars)]\n",
    "# forecast sequence (t, t+1, ... t+n)\n",
    "    for i in range(0, n_out):\n",
    "        cols.append(df.shift(-i))\n",
    "        if i == 0:\n",
    "            names += [('var%d(t)' % (j+1)) for j in range(n_vars)]\n",
    "        else:\n",
    "            names += [('var%d(t+%d)' % (j+1, i)) for j in range(n_vars)]\n",
    "# put it all together\n",
    "    agg = concat(cols, axis=1)\n",
    "    agg.columns = names\n",
    "# drop rows with NaN values\n",
    "    if dropnan:\n",
    "        agg.dropna(inplace=True)\n",
    "    return agg"
   ]
  },
  {
   "cell_type": "code",
   "execution_count": 10,
   "metadata": {},
   "outputs": [],
   "source": [
    "# Uzimamo vrednosti iz skupa podataka, nad kojima prvo radimo normalizaciju kako bi dobili sve vrednosti u intervalu od 0 do 1\n",
    "# Zatim pozivamo gorespomenutu funkciju koja će podeliti i pripremiti podatke za dalji rad\n",
    "values = dataset.values\n",
    "values = values.astype('float32')\n",
    "scaler = MinMaxScaler(feature_range=(0, 1))\n",
    "scaled = scaler.fit_transform(values)\n",
    "reframed = series_to_supervised(scaled, 1, 1)"
   ]
  },
  {
   "cell_type": "code",
   "execution_count": 12,
   "metadata": {},
   "outputs": [
    {
     "name": "stdout",
     "output_type": "stream",
     "text": [
      "   var1(t-1)  var2(t-1)  var3(t-1)   var1(t)\n",
      "1   0.346939   0.773810       0.52  0.346939\n",
      "2   0.346939   0.773810       0.52  0.346939\n",
      "3   0.346939   0.773810       0.52  0.326531\n",
      "4   0.326531   0.845238       0.52  0.326531\n",
      "5   0.326531   0.845238       0.52  0.306122\n"
     ]
    }
   ],
   "source": [
    "# Odbacujemo visak kolona\n",
    "reframed.drop(reframed.columns[4:6], axis=1, inplace=True)\n",
    "print(reframed.head())"
   ]
  },
  {
   "cell_type": "code",
   "execution_count": 13,
   "metadata": {},
   "outputs": [],
   "source": [
    "# Podela podataka na trening i test podatke\n",
    "values = reframed.values\n",
    "n_train_hours = 400 * 48\n",
    "train = values[:n_train_hours, :]\n",
    "test = values[n_train_hours:, :]"
   ]
  },
  {
   "cell_type": "code",
   "execution_count": 30,
   "metadata": {},
   "outputs": [],
   "source": [
    "# Podela trening i test skupa podataka na ulazne i izlazne podatke\n",
    "train_X, train_y = train[:, :-1], train[:, -1]\n",
    "test_X, test_y = test[:, :-1],test[:, -1]\n",
    "train_X = train_X.reshape((train_X.shape[0], 1, train_X.shape[1]))\n",
    "test_X = test_X.reshape((test_X.shape[0], 1, test_X.shape[1]))"
   ]
  },
  {
   "cell_type": "code",
   "execution_count": 15,
   "metadata": {},
   "outputs": [
    {
     "name": "stdout",
     "output_type": "stream",
     "text": [
      "Epoch 1/25\n",
      "19200/19200 [==============================] - 1s 66us/step - loss: 0.0314\n",
      "Epoch 2/25\n",
      "19200/19200 [==============================] - 1s 38us/step - loss: 4.0609e-04\n",
      "Epoch 3/25\n",
      "19200/19200 [==============================] - 1s 38us/step - loss: 3.1998e-04\n",
      "Epoch 4/25\n",
      "19200/19200 [==============================] - 1s 38us/step - loss: 3.2039e-04\n",
      "Epoch 5/25\n",
      "19200/19200 [==============================] - 1s 38us/step - loss: 3.1743e-04\n",
      "Epoch 6/25\n",
      "19200/19200 [==============================] - 1s 38us/step - loss: 3.1445e-04\n",
      "Epoch 7/25\n",
      "19200/19200 [==============================] - 1s 39us/step - loss: 3.1693e-04\n",
      "Epoch 8/25\n",
      "19200/19200 [==============================] - 1s 38us/step - loss: 3.1731e-04\n",
      "Epoch 9/25\n",
      "19200/19200 [==============================] - 1s 38us/step - loss: 3.1545e-04\n",
      "Epoch 10/25\n",
      "19200/19200 [==============================] - 1s 38us/step - loss: 3.1356e-04\n",
      "Epoch 11/25\n",
      "19200/19200 [==============================] - 1s 38us/step - loss: 3.1279e-04\n",
      "Epoch 12/25\n",
      "19200/19200 [==============================] - 1s 39us/step - loss: 3.0927e-04\n",
      "Epoch 13/25\n",
      "19200/19200 [==============================] - 1s 39us/step - loss: 3.0933e-04\n",
      "Epoch 14/25\n",
      "19200/19200 [==============================] - 1s 39us/step - loss: 3.1296e-04\n",
      "Epoch 15/25\n",
      "19200/19200 [==============================] - 1s 39us/step - loss: 3.1419e-04\n",
      "Epoch 16/25\n",
      "19200/19200 [==============================] - 1s 40us/step - loss: 3.0841e-04\n",
      "Epoch 17/25\n",
      "19200/19200 [==============================] - 1s 39us/step - loss: 3.0911e-04\n",
      "Epoch 18/25\n",
      "19200/19200 [==============================] - 1s 39us/step - loss: 3.0932e-04\n",
      "Epoch 19/25\n",
      "19200/19200 [==============================] - 1s 39us/step - loss: 3.0597e-04\n",
      "Epoch 20/25\n",
      "19200/19200 [==============================] - 1s 39us/step - loss: 3.0788e-04\n",
      "Epoch 21/25\n",
      "19200/19200 [==============================] - 1s 39us/step - loss: 3.0938e-04\n",
      "Epoch 22/25\n",
      "19200/19200 [==============================] - 1s 39us/step - loss: 3.0982e-04\n",
      "Epoch 23/25\n",
      "19200/19200 [==============================] - 1s 39us/step - loss: 3.0830e-04\n",
      "Epoch 24/25\n",
      "19200/19200 [==============================] - 1s 40us/step - loss: 3.0541e-04\n",
      "Epoch 25/25\n",
      "19200/19200 [==============================] - 1s 39us/step - loss: 3.1197e-04\n"
     ]
    }
   ],
   "source": [
    "# Kreiranje i treniranje LSTM modela upotrebom Keras biblioteke\n",
    "modelSCLSTM = Sequential()\n",
    "modelSCLSTM.add(LSTM(units = 50, activation='relu',input_shape = (train_X.shape[1], train_X.shape[2])))\n",
    "modelSCLSTM.add(Dense(units = 1))\n",
    "modelSCLSTM.compile(optimizer = 'adam', loss = 'mean_squared_error')\n",
    "history = modelSCLSTM.fit(train_X, train_y, epochs = 25, batch_size = 32)\n",
    "loss = history.history['loss']\n",
    "epochs = range(len(loss))"
   ]
  },
  {
   "cell_type": "code",
   "execution_count": 16,
   "metadata": {},
   "outputs": [],
   "source": [
    "# Predikcija vrednosti na osnovu podataka za testiranje\n",
    "y_predictedSCLSTM = modelSCLSTM.predict(test_X)"
   ]
  },
  {
   "cell_type": "code",
   "execution_count": 17,
   "metadata": {},
   "outputs": [],
   "source": [
    "# Vracanje vrednosti u originalne vrednosti ('obrnuta normalizacija')\n",
    "test_X = test_X.reshape((test_X.shape[0], test_X.shape[2]))\n",
    "test_X=test_X.astype('float32',casting='same_kind')\n",
    "y_predicted_descaledSCLSTM = concatenate((y_predictedSCLSTM, test_X[:, 1:]), axis=1)\n",
    "y_predicted_descaledSCLSTM = scaler.inverse_transform(y_predicted_descaledSCLSTM)\n",
    "y_predicted_descaledSCLSTM = y_predicted_descaledSCLSTM[:,0]"
   ]
  },
  {
   "cell_type": "code",
   "execution_count": 18,
   "metadata": {},
   "outputs": [],
   "source": [
    "test_y = test_y.reshape((len(test_y), 1))\n",
    "y_test_descaledSCLSTM = concatenate((test_y, test_X[:, 1:]), axis=1)\n",
    "y_test_descaledSCLSTM = scaler.inverse_transform(y_test_descaledSCLSTM)\n",
    "y_test_descaledSCLSTM = y_test_descaledSCLSTM[:,0]"
   ]
  },
  {
   "cell_type": "code",
   "execution_count": 19,
   "metadata": {},
   "outputs": [
    {
     "data": {
      "image/png": "[encoded data removed]",
      "text/plain": [
       "<Figure size 576x504 with 3 Axes>"
      ]
     },
     "metadata": {},
     "output_type": "display_data"
    }
   ],
   "source": [
    "plt.figure(figsize=(8,7))\n",
    "\n",
    "\n",
    "plt.subplot(3, 1, 1)\n",
    "plt.plot(y_test_descaledSCLSTM[0:100], color = 'black', linewidth=1, label = 'True value')\n",
    "plt.plot(y_predicted_descaledSCLSTM[0:100], color = 'red', label = 'Predicted')\n",
    "plt.legend(frameon=False)\n",
    "plt.ylabel(\"Temperature\")\n",
    "plt.xlabel(\"Day\")\n",
    "plt.title(\"Predicted data (first 100 days)\")\n",
    "\n",
    "plt.subplot(3, 1, 2)\n",
    "plt.plot(epochs, loss, color='black')\n",
    "plt.ylabel(\"Loss (MSE)\")\n",
    "plt.xlabel(\"Epoch\")\n",
    "plt.title(\"Training curve\")\n",
    "\n",
    "plt.subplot(3, 1, 3)\n",
    "plt.scatter(y_predicted_descaledSCLSTM, y_test_descaledSCLSTM, s=2, color='black')\n",
    "plt.ylabel(\"Y true\")\n",
    "plt.xlabel(\"Y predicted\")\n",
    "plt.title(\"Scatter plot\")\n",
    "\n",
    "plt.subplots_adjust(hspace =\n",
    "                    0.5, wspace=0.3)\n",
    "\n",
    "plt.savefig(\"SCLSTMAllData.png\",  bbox_inches = \"tight\")\n",
    "\n",
    "\n",
    "plt.show()"
   ]
  },
  {
   "cell_type": "code",
   "execution_count": 20,
   "metadata": {},
   "outputs": [
    {
     "name": "stdout",
     "output_type": "stream",
     "text": [
      "mse SCLSTM=0.87\n",
      "mae SCLSTM=0.65\n"
     ]
    }
   ],
   "source": [
    "mseSCLSTM = metrics.mean_squared_error(y_test_descaledSCLSTM, y_predicted_descaledSCLSTM)\n",
    "maeSCLSTM = metrics.mean_absolute_error(y_test_descaledSCLSTM, y_predicted_descaledSCLSTM)\n",
    "print(\"mse SCLSTM=\" + str(round(mseSCLSTM,2)))\n",
    "print(\"mae SCLSTM=\" + str(round(maeSCLSTM,2)))"
   ]
  },
  {
   "cell_type": "code",
   "execution_count": 21,
   "metadata": {},
   "outputs": [
    {
     "name": "stdout",
     "output_type": "stream",
     "text": [
      "Epoch 1/25\n",
      "19200/19200 [==============================] - 2s 120us/step - loss: 0.0253\n",
      "Epoch 2/25\n",
      "19200/19200 [==============================] - 1s 65us/step - loss: 3.2930e-04\n",
      "Epoch 3/25\n",
      "19200/19200 [==============================] - 1s 65us/step - loss: 3.1114e-04\n",
      "Epoch 4/25\n",
      "19200/19200 [==============================] - 1s 65us/step - loss: 3.1120e-04\n",
      "Epoch 5/25\n",
      "19200/19200 [==============================] - 1s 65us/step - loss: 3.1271e-04\n",
      "Epoch 6/25\n",
      "19200/19200 [==============================] - 1s 65us/step - loss: 3.1661e-04\n",
      "Epoch 7/25\n",
      "19200/19200 [==============================] - 1s 65us/step - loss: 3.1523e-04\n",
      "Epoch 8/25\n",
      "19200/19200 [==============================] - 1s 66us/step - loss: 3.1112e-04\n",
      "Epoch 9/25\n",
      "19200/19200 [==============================] - 1s 66us/step - loss: 3.1306e-04\n",
      "Epoch 10/25\n",
      "19200/19200 [==============================] - 1s 66us/step - loss: 3.1718e-04\n",
      "Epoch 11/25\n",
      "19200/19200 [==============================] - 1s 66us/step - loss: 3.1630e-04\n",
      "Epoch 12/25\n",
      "19200/19200 [==============================] - 1s 66us/step - loss: 3.1225e-04\n",
      "Epoch 13/25\n",
      "19200/19200 [==============================] - 1s 66us/step - loss: 3.1342e-04\n",
      "Epoch 14/25\n",
      "19200/19200 [==============================] - 1s 66us/step - loss: 3.1780e-04\n",
      "Epoch 15/25\n",
      "19200/19200 [==============================] - 1s 66us/step - loss: 3.0821e-04\n",
      "Epoch 16/25\n",
      "19200/19200 [==============================] - 1s 66us/step - loss: 3.1894e-04\n",
      "Epoch 17/25\n",
      "19200/19200 [==============================] - 1s 69us/step - loss: 3.1263e-04\n",
      "Epoch 18/25\n",
      "19200/19200 [==============================] - 1s 67us/step - loss: 3.1521e-04\n",
      "Epoch 19/25\n",
      "19200/19200 [==============================] - 1s 65us/step - loss: 3.0955e-04\n",
      "Epoch 20/25\n",
      "19200/19200 [==============================] - 1s 65us/step - loss: 3.0880e-04\n",
      "Epoch 21/25\n",
      "19200/19200 [==============================] - 1s 66us/step - loss: 3.1185e-04\n",
      "Epoch 22/25\n",
      "19200/19200 [==============================] - 1s 66us/step - loss: 3.0985e-04\n",
      "Epoch 23/25\n",
      "19200/19200 [==============================] - 1s 66us/step - loss: 3.1387e-04\n",
      "Epoch 24/25\n",
      "19200/19200 [==============================] - 1s 66us/step - loss: 3.1020e-04\n",
      "Epoch 25/25\n",
      "19200/19200 [==============================] - 1s 66us/step - loss: 3.1339e-04\n"
     ]
    }
   ],
   "source": [
    "# Kreiranje i treniranje Stacked LSTM modela upotrebom Keras biblioteke\n",
    "modelSLSTM = Sequential()\n",
    "modelSLSTM.add(LSTM(50, activation='relu', return_sequences=True, input_shape=(train_X.shape[1], train_X.shape[2])))\n",
    "modelSLSTM.add(LSTM(50, activation='relu'))\n",
    "modelSLSTM.add(Dense(1))\n",
    "modelSLSTM.compile(optimizer = 'adam', loss = 'mean_squared_error')\n",
    "history = modelSLSTM.fit(train_X, train_y, epochs = 25, batch_size = 32)\n",
    "loss = history.history['loss']\n",
    "epochs = range(len(loss))"
   ]
  },
  {
   "cell_type": "code",
   "execution_count": 24,
   "metadata": {},
   "outputs": [],
   "source": [
    "# Predikcija vrednosti na osnovu podataka za testiranje\n",
    "y_predictedSLSTM = modelSLSTM.predict(test_X)"
   ]
  },
  {
   "cell_type": "code",
   "execution_count": 25,
   "metadata": {},
   "outputs": [],
   "source": [
    "# Vracanje vrednosti u originalne vrednosti ('obrnuta normalizacija')\n",
    "test_X = test_X.reshape((test_X.shape[0], test_X.shape[2]))\n",
    "test_X=test_X.astype('float32',casting='same_kind')\n",
    "y_predicted_descaledSLSTM = concatenate((y_predictedSLSTM, test_X[:, 1:]), axis=1)\n",
    "y_predicted_descaledSLSTM = scaler.inverse_transform(y_predicted_descaledSLSTM)\n",
    "y_predicted_descaledSLSTM = y_predicted_descaledSLSTM[:,0]"
   ]
  },
  {
   "cell_type": "code",
   "execution_count": 26,
   "metadata": {},
   "outputs": [],
   "source": [
    "test_y = test_y.reshape((len(test_y), 1))\n",
    "y_test_descaledSLSTM = concatenate((test_y, test_X[:, 1:]), axis=1)\n",
    "y_test_descaledSLSTM = scaler.inverse_transform(y_test_descaledSLSTM)\n",
    "y_test_descaledSLSTM = y_test_descaledSLSTM[:,0]"
   ]
  },
  {
   "cell_type": "code",
   "execution_count": 27,
   "metadata": {},
   "outputs": [
    {
     "data": {
      "image/png": "[encoded data removed]",
      "text/plain": [
       "<Figure size 576x504 with 3 Axes>"
      ]
     },
     "metadata": {},
     "output_type": "display_data"
    }
   ],
   "source": [
    "plt.figure(figsize=(8,7))\n",
    "\n",
    "\n",
    "plt.subplot(3, 1, 1)\n",
    "plt.plot(y_test_descaledSLSTM[0:100], color = 'black', linewidth=1, label = 'True value')\n",
    "plt.plot(y_predicted_descaledSLSTM[0:100], color = 'red', label = 'Predicted')\n",
    "plt.legend(frameon=False)\n",
    "plt.ylabel(\"Temperature\")\n",
    "plt.xlabel(\"Day\")\n",
    "plt.title(\"Predicted data (first 100 days)\")\n",
    "\n",
    "plt.subplot(3, 1, 2)\n",
    "plt.plot(epochs, loss, color='black')\n",
    "plt.ylabel(\"Loss (MSE)\")\n",
    "plt.xlabel(\"Epoch\")\n",
    "plt.title(\"Training curve\")\n",
    "\n",
    "plt.subplot(3, 1, 3)\n",
    "plt.scatter(y_predicted_descaledSLSTM, y_test_descaledSLSTM, s=2, color='black')\n",
    "plt.ylabel(\"Y true\")\n",
    "plt.xlabel(\"Y predicted\")\n",
    "plt.title(\"Scatter plot\")\n",
    "\n",
    "plt.subplots_adjust(hspace =\n",
    "                    0.5, wspace=0.3)\n",
    "\n",
    "plt.savefig(\"SLSTMAllData.png\",  bbox_inches = \"tight\")\n",
    "\n",
    "\n",
    "plt.show()"
   ]
  },
  {
   "cell_type": "code",
   "execution_count": 28,
   "metadata": {},
   "outputs": [
    {
     "name": "stdout",
     "output_type": "stream",
     "text": [
      "mse SLSTM=0.95\n",
      "mae SLSTM=0.73\n"
     ]
    }
   ],
   "source": [
    "mseSLSTM = metrics.mean_squared_error(y_test_descaledSLSTM, y_predicted_descaledSLSTM)\n",
    "maeSLSTM = metrics.mean_absolute_error(y_test_descaledSLSTM, y_predicted_descaledSLSTM)\n",
    "print(\"mse SLSTM=\" + str(round(mseSLSTM,2)))\n",
    "print(\"mae SLSTM=\" + str(round(maeSLSTM,2)))"
   ]
  },
  {
   "cell_type": "code",
   "execution_count": 29,
   "metadata": {},
   "outputs": [
    {
     "name": "stdout",
     "output_type": "stream",
     "text": [
      "Epoch 1/25\n",
      "19200/19200 [==============================] - 2s 115us/step - loss: 0.0224\n",
      "Epoch 2/25\n",
      "19200/19200 [==============================] - 1s 54us/step - loss: 3.2717e-04\n",
      "Epoch 3/25\n",
      "19200/19200 [==============================] - 1s 56us/step - loss: 3.1019e-04\n",
      "Epoch 4/25\n",
      "19200/19200 [==============================] - 1s 58us/step - loss: 3.0949e-04\n",
      "Epoch 5/25\n",
      "19200/19200 [==============================] - 1s 56us/step - loss: 3.1607e-04\n",
      "Epoch 6/25\n",
      "19200/19200 [==============================] - 1s 57us/step - loss: 3.1289e-04\n",
      "Epoch 7/25\n",
      "19200/19200 [==============================] - 1s 55us/step - loss: 3.0986e-04\n",
      "Epoch 8/25\n",
      "19200/19200 [==============================] - 1s 57us/step - loss: 3.1184e-04\n",
      "Epoch 9/25\n",
      "19200/19200 [==============================] - 1s 56us/step - loss: 3.1187e-04\n",
      "Epoch 10/25\n",
      "19200/19200 [==============================] - 1s 56us/step - loss: 3.0736e-04\n",
      "Epoch 11/25\n",
      "19200/19200 [==============================] - 1s 57us/step - loss: 3.1206e-04\n",
      "Epoch 12/25\n",
      "19200/19200 [==============================] - 1s 54us/step - loss: 3.1564e-04\n",
      "Epoch 13/25\n",
      "19200/19200 [==============================] - 1s 54us/step - loss: 3.0576e-04\n",
      "Epoch 14/25\n",
      "19200/19200 [==============================] - 1s 54us/step - loss: 3.0777e-04\n",
      "Epoch 15/25\n",
      "19200/19200 [==============================] - 1s 54us/step - loss: 3.1193e-04\n",
      "Epoch 16/25\n",
      "19200/19200 [==============================] - 1s 55us/step - loss: 3.1162e-04\n",
      "Epoch 17/25\n",
      "19200/19200 [==============================] - 1s 54us/step - loss: 3.1169e-04\n",
      "Epoch 18/25\n",
      "19200/19200 [==============================] - 1s 54us/step - loss: 3.0730e-04\n",
      "Epoch 19/25\n",
      "19200/19200 [==============================] - 1s 54us/step - loss: 3.1240e-04\n",
      "Epoch 20/25\n",
      "19200/19200 [==============================] - 1s 54us/step - loss: 3.0708e-04\n",
      "Epoch 21/25\n",
      "19200/19200 [==============================] - 1s 54us/step - loss: 3.0657e-04\n",
      "Epoch 22/25\n",
      "19200/19200 [==============================] - 1s 54us/step - loss: 3.0996e-04\n",
      "Epoch 23/25\n",
      "19200/19200 [==============================] - 1s 54us/step - loss: 3.0496e-04\n",
      "Epoch 24/25\n",
      "19200/19200 [==============================] - 1s 54us/step - loss: 3.0771e-04\n",
      "Epoch 25/25\n",
      "19200/19200 [==============================] - 1s 54us/step - loss: 3.0696e-04\n"
     ]
    }
   ],
   "source": [
    "# Kreiranje i treniranje Bidirectional LSTM modela upotrebom Keras biblioteke\n",
    "modelBLSTM = Sequential()\n",
    "modelBLSTM.add(Bidirectional(LSTM(50, activation='relu'), input_shape=(train_X.shape[1], train_X.shape[2])))\n",
    "modelBLSTM.add(Dense(1))\n",
    "modelBLSTM.compile(optimizer = 'adam', loss = 'mean_squared_error')\n",
    "history = modelBLSTM.fit(train_X, train_y, epochs = 25, batch_size = 32)\n",
    "loss = history.history['loss']\n",
    "epochs = range(len(loss))"
   ]
  },
  {
   "cell_type": "code",
   "execution_count": 31,
   "metadata": {},
   "outputs": [],
   "source": [
    "# Predikcija vrednosti na osnovu podataka za testiranje\n",
    "y_predictedBLSTM = modelBLSTM.predict(test_X)"
   ]
  },
  {
   "cell_type": "code",
   "execution_count": 32,
   "metadata": {},
   "outputs": [],
   "source": [
    "# Vracanje vrednosti u originalne vrednosti ('obrnuta normalizacija')\n",
    "test_X = test_X.reshape((test_X.shape[0], test_X.shape[2]))\n",
    "test_X=test_X.astype('float32',casting='same_kind')\n",
    "y_predicted_descaledBLSTM = concatenate((y_predictedBLSTM, test_X[:, 1:]), axis=1)\n",
    "y_predicted_descaledBLSTM = scaler.inverse_transform(y_predicted_descaledBLSTM)\n",
    "y_predicted_descaledBLSTM = y_predicted_descaledBLSTM[:,0]"
   ]
  },
  {
   "cell_type": "code",
   "execution_count": 33,
   "metadata": {},
   "outputs": [],
   "source": [
    "test_y = test_y.reshape((len(test_y), 1))\n",
    "y_test_descaledBLSTM = concatenate((test_y, test_X[:, 1:]), axis=1)\n",
    "y_test_descaledBLSTM = scaler.inverse_transform(y_test_descaledBLSTM)\n",
    "y_test_descaledBLSTM = y_test_descaledBLSTM[:,0]"
   ]
  },
  {
   "cell_type": "code",
   "execution_count": 34,
   "metadata": {},
   "outputs": [
    {
     "data": {
      "image/png": "[encoded data removed]",
      "text/plain": [
       "<Figure size 576x504 with 3 Axes>"
      ]
     },
     "metadata": {},
     "output_type": "display_data"
    }
   ],
   "source": [
    "plt.figure(figsize=(8,7))\n",
    "\n",
    "\n",
    "plt.subplot(3, 1, 1)\n",
    "plt.plot(y_test_descaledBLSTM[0:100], color = 'black', linewidth=1, label = 'True value')\n",
    "plt.plot(y_predicted_descaledBLSTM[0:100], color = 'red', label = 'Predicted')\n",
    "plt.legend(frameon=False)\n",
    "plt.ylabel(\"Temperature\")\n",
    "plt.xlabel(\"Day\")\n",
    "plt.title(\"Predicted data (first 100 days)\")\n",
    "\n",
    "plt.subplot(3, 1, 2)\n",
    "plt.plot(epochs, loss, color='black')\n",
    "plt.ylabel(\"Loss (MSE)\")\n",
    "plt.xlabel(\"Epoch\")\n",
    "plt.title(\"Training curve\")\n",
    "\n",
    "plt.subplot(3, 1, 3)\n",
    "plt.scatter(y_predicted_descaledBLSTM, y_test_descaledBLSTM, s=2, color='black')\n",
    "plt.ylabel(\"Y true\")\n",
    "plt.xlabel(\"Y predicted\")\n",
    "plt.title(\"Scatter plot\")\n",
    "\n",
    "plt.subplots_adjust(hspace =\n",
    "                    0.5, wspace=0.3)\n",
    "\n",
    "plt.savefig(\"BLSTMAllData.png\",  bbox_inches = \"tight\")\n",
    "\n",
    "\n",
    "plt.show()"
   ]
  },
  {
   "cell_type": "code",
   "execution_count": 35,
   "metadata": {},
   "outputs": [
    {
     "name": "stdout",
     "output_type": "stream",
     "text": [
      "mse BLSTM=0.87\n",
      "mae BLSTM=0.66\n"
     ]
    }
   ],
   "source": [
    "mseBLSTM = metrics.mean_squared_error(y_test_descaledBLSTM, y_predicted_descaledBLSTM)\n",
    "maeBLSTM = metrics.mean_absolute_error(y_test_descaledBLSTM, y_predicted_descaledBLSTM)\n",
    "print(\"mse BLSTM=\" + str(round(mseBLSTM,2)))\n",
    "print(\"mae BLSTM=\" + str(round(maeBLSTM,2)))"
   ]
  }
 ],
 "metadata": {
  "kernelspec": {
   "display_name": "Python 3",
   "language": "python",
   "name": "python3"
  },
  "language_info": {
   "codemirror_mode": {
    "name": "ipython",
    "version": 3
   },
   "file_extension": ".py",
   "mimetype": "text/x-python",
   "name": "python",
   "nbconvert_exporter": "python",
   "pygments_lexer": "ipython3",
   "version": "3.6.5"
  }
 },
 "nbformat": 4,
 "nbformat_minor": 2
}
